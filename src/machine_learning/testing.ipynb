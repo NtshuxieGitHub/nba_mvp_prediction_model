{
 "cells": [
  {
   "cell_type": "code",
   "execution_count": 1,
   "id": "1860366b",
   "metadata": {},
   "outputs": [],
   "source": [
    "from modelling import modelling"
   ]
  },
  {
   "cell_type": "code",
   "execution_count": 2,
   "id": "7e3c943c",
   "metadata": {},
   "outputs": [
    {
     "name": "stdout",
     "output_type": "stream",
     "text": [
      "(12409, 41)\n"
     ]
    }
   ],
   "source": [
    "mean_aps, aps, predictions = modelling()"
   ]
  },
  {
   "cell_type": "code",
   "execution_count": 3,
   "id": "8ade64f3",
   "metadata": {},
   "outputs": [
    {
     "data": {
      "text/plain": [
       "0.9439393939393939"
      ]
     },
     "execution_count": 3,
     "metadata": {},
     "output_type": "execute_result"
    }
   ],
   "source": [
    "mean_aps"
   ]
  },
  {
   "cell_type": "code",
   "execution_count": 4,
   "id": "2bf5f68a",
   "metadata": {},
   "outputs": [
    {
     "data": {
      "text/plain": [
       "[[1.0, 1.0, 1.0, 1.0],\n",
       " [1.0, 0.6666666666666666],\n",
       " [1.0],\n",
       " [1.0, 1.0],\n",
       " [1.0, 1.0, 0.75, 0.8],\n",
       " [1.0, 1.0, 1.0, 1.0],\n",
       " [1.0, 1.0, 1.0],\n",
       " [1.0, 1.0],\n",
       " [0.5, 0.5],\n",
       " [1.0, 1.0],\n",
       " [1.0, 1.0, 0.75],\n",
       " [1.0, 1.0, 1.0, 0.8],\n",
       " [1.0, 1.0, 1.0],\n",
       " [1.0, 1.0, 1.0],\n",
       " [1.0, 1.0, 1.0],\n",
       " [1.0, 1.0],\n",
       " [1.0, 1.0, 0.75, 0.8],\n",
       " [1.0, 1.0],\n",
       " [1.0, 1.0],\n",
       " [1.0, 1.0, 0.6]]"
      ]
     },
     "execution_count": 4,
     "metadata": {},
     "output_type": "execute_result"
    }
   ],
   "source": [
    "aps"
   ]
  },
  {
   "cell_type": "code",
   "execution_count": 5,
   "id": "64a78d54",
   "metadata": {},
   "outputs": [
    {
     "data": {
      "text/html": [
       "<div>\n",
       "<style scoped>\n",
       "    .dataframe tbody tr th:only-of-type {\n",
       "        vertical-align: middle;\n",
       "    }\n",
       "\n",
       "    .dataframe tbody tr th {\n",
       "        vertical-align: top;\n",
       "    }\n",
       "\n",
       "    .dataframe thead th {\n",
       "        text-align: right;\n",
       "    }\n",
       "</style>\n",
       "<table border=\"1\" class=\"dataframe\">\n",
       "  <thead>\n",
       "    <tr style=\"text-align: right;\">\n",
       "      <th></th>\n",
       "      <th>Player</th>\n",
       "      <th>Share</th>\n",
       "      <th>predictions</th>\n",
       "      <th>Rk</th>\n",
       "      <th>Predicted_Rk</th>\n",
       "      <th>Diff</th>\n",
       "    </tr>\n",
       "  </thead>\n",
       "  <tbody>\n",
       "    <tr>\n",
       "      <th>775</th>\n",
       "      <td>Aaron McKie</td>\n",
       "      <td>0.0</td>\n",
       "      <td>-0.010843</td>\n",
       "      <td>NaN</td>\n",
       "      <td>NaN</td>\n",
       "      <td>NaN</td>\n",
       "    </tr>\n",
       "    <tr>\n",
       "      <th>776</th>\n",
       "      <td>Allen Iverson</td>\n",
       "      <td>0.0</td>\n",
       "      <td>0.068157</td>\n",
       "      <td>NaN</td>\n",
       "      <td>NaN</td>\n",
       "      <td>NaN</td>\n",
       "    </tr>\n",
       "    <tr>\n",
       "      <th>777</th>\n",
       "      <td>Amal McCaskill</td>\n",
       "      <td>0.0</td>\n",
       "      <td>-0.014667</td>\n",
       "      <td>NaN</td>\n",
       "      <td>NaN</td>\n",
       "      <td>NaN</td>\n",
       "    </tr>\n",
       "    <tr>\n",
       "      <th>778</th>\n",
       "      <td>Derrick Coleman</td>\n",
       "      <td>0.0</td>\n",
       "      <td>-0.009199</td>\n",
       "      <td>NaN</td>\n",
       "      <td>NaN</td>\n",
       "      <td>NaN</td>\n",
       "    </tr>\n",
       "    <tr>\n",
       "      <th>779</th>\n",
       "      <td>Eric Snow</td>\n",
       "      <td>0.0</td>\n",
       "      <td>-0.013820</td>\n",
       "      <td>NaN</td>\n",
       "      <td>NaN</td>\n",
       "      <td>NaN</td>\n",
       "    </tr>\n",
       "    <tr>\n",
       "      <th>...</th>\n",
       "      <td>...</td>\n",
       "      <td>...</td>\n",
       "      <td>...</td>\n",
       "      <td>...</td>\n",
       "      <td>...</td>\n",
       "      <td>...</td>\n",
       "    </tr>\n",
       "    <tr>\n",
       "      <th>6238</th>\n",
       "      <td>Justin Minaya</td>\n",
       "      <td>0.0</td>\n",
       "      <td>-0.043330</td>\n",
       "      <td>88.0</td>\n",
       "      <td>465.0</td>\n",
       "      <td>-377.0</td>\n",
       "    </tr>\n",
       "    <tr>\n",
       "      <th>11460</th>\n",
       "      <td>Chris Silva</td>\n",
       "      <td>0.0</td>\n",
       "      <td>-0.044047</td>\n",
       "      <td>213.0</td>\n",
       "      <td>466.0</td>\n",
       "      <td>-253.0</td>\n",
       "    </tr>\n",
       "    <tr>\n",
       "      <th>6239</th>\n",
       "      <td>Justise Winslow</td>\n",
       "      <td>0.0</td>\n",
       "      <td>-0.050040</td>\n",
       "      <td>87.0</td>\n",
       "      <td>467.0</td>\n",
       "      <td>-380.0</td>\n",
       "    </tr>\n",
       "    <tr>\n",
       "      <th>11943</th>\n",
       "      <td>P.J. Tucker</td>\n",
       "      <td>0.0</td>\n",
       "      <td>-0.052994</td>\n",
       "      <td>169.0</td>\n",
       "      <td>468.0</td>\n",
       "      <td>-299.0</td>\n",
       "    </tr>\n",
       "    <tr>\n",
       "      <th>9957</th>\n",
       "      <td>Jacob Gilyard</td>\n",
       "      <td>0.0</td>\n",
       "      <td>-0.053837</td>\n",
       "      <td>57.0</td>\n",
       "      <td>469.0</td>\n",
       "      <td>-412.0</td>\n",
       "    </tr>\n",
       "  </tbody>\n",
       "</table>\n",
       "<p>17002 rows × 6 columns</p>\n",
       "</div>"
      ],
      "text/plain": [
       "                Player  Share  predictions     Rk  Predicted_Rk   Diff\n",
       "775        Aaron McKie    0.0    -0.010843    NaN           NaN    NaN\n",
       "776      Allen Iverson    0.0     0.068157    NaN           NaN    NaN\n",
       "777     Amal McCaskill    0.0    -0.014667    NaN           NaN    NaN\n",
       "778    Derrick Coleman    0.0    -0.009199    NaN           NaN    NaN\n",
       "779          Eric Snow    0.0    -0.013820    NaN           NaN    NaN\n",
       "...                ...    ...          ...    ...           ...    ...\n",
       "6238     Justin Minaya    0.0    -0.043330   88.0         465.0 -377.0\n",
       "11460      Chris Silva    0.0    -0.044047  213.0         466.0 -253.0\n",
       "6239   Justise Winslow    0.0    -0.050040   87.0         467.0 -380.0\n",
       "11943      P.J. Tucker    0.0    -0.052994  169.0         468.0 -299.0\n",
       "9957     Jacob Gilyard    0.0    -0.053837   57.0         469.0 -412.0\n",
       "\n",
       "[17002 rows x 6 columns]"
      ]
     },
     "execution_count": 5,
     "metadata": {},
     "output_type": "execute_result"
    }
   ],
   "source": [
    "predictions"
   ]
  }
 ],
 "metadata": {
  "kernelspec": {
   "display_name": "Python 3",
   "language": "python",
   "name": "python3"
  },
  "language_info": {
   "codemirror_mode": {
    "name": "ipython",
    "version": 3
   },
   "file_extension": ".py",
   "mimetype": "text/x-python",
   "name": "python",
   "nbconvert_exporter": "python",
   "pygments_lexer": "ipython3",
   "version": "3.12.1"
  }
 },
 "nbformat": 4,
 "nbformat_minor": 5
}
